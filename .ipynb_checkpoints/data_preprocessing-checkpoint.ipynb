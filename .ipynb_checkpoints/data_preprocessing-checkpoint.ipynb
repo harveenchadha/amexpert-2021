{
 "cells": [
  {
   "cell_type": "code",
   "execution_count": 1,
   "id": "a8094a26",
   "metadata": {},
   "outputs": [],
   "source": [
    "import pandas as pd\n",
    "import numpy as np\n",
    "import ast"
   ]
  },
  {
   "cell_type": "code",
   "execution_count": 2,
   "id": "17c5150b",
   "metadata": {},
   "outputs": [],
   "source": [
    "df_train = pd.read_csv('train_go05W65.csv',\n",
    "                       converters={'Product_Holding_B1':ast.literal_eval, 'Product_Holding_B2':ast.literal_eval})"
   ]
  },
  {
   "cell_type": "code",
   "execution_count": 3,
   "id": "d713dc13",
   "metadata": {},
   "outputs": [],
   "source": [
    "df_test = pd.read_csv('test_VkM91FT.csv',\n",
    "                       converters={'Product_Holding_B1':ast.literal_eval})"
   ]
  },
  {
   "cell_type": "code",
   "execution_count": 4,
   "id": "3387b570",
   "metadata": {},
   "outputs": [],
   "source": [
    "df_train['is_train']=1\n",
    "df_test['is_train'] = 0"
   ]
  },
  {
   "cell_type": "code",
   "execution_count": 5,
   "id": "2a0e3e4d",
   "metadata": {},
   "outputs": [],
   "source": [
    "df = pd.concat([df_train, df_test])"
   ]
  },
  {
   "cell_type": "code",
   "execution_count": 6,
   "id": "cc0baeb6",
   "metadata": {},
   "outputs": [
    {
     "data": {
      "text/html": [
       "<div>\n",
       "<style scoped>\n",
       "    .dataframe tbody tr th:only-of-type {\n",
       "        vertical-align: middle;\n",
       "    }\n",
       "\n",
       "    .dataframe tbody tr th {\n",
       "        vertical-align: top;\n",
       "    }\n",
       "\n",
       "    .dataframe thead th {\n",
       "        text-align: right;\n",
       "    }\n",
       "</style>\n",
       "<table border=\"1\" class=\"dataframe\">\n",
       "  <thead>\n",
       "    <tr style=\"text-align: right;\">\n",
       "      <th></th>\n",
       "      <th>Customer_ID</th>\n",
       "      <th>Gender</th>\n",
       "      <th>Age</th>\n",
       "      <th>Vintage</th>\n",
       "      <th>Is_Active</th>\n",
       "      <th>City_Category</th>\n",
       "      <th>Customer_Category</th>\n",
       "      <th>Product_Holding_B1</th>\n",
       "      <th>Product_Holding_B2</th>\n",
       "      <th>is_train</th>\n",
       "    </tr>\n",
       "  </thead>\n",
       "  <tbody>\n",
       "    <tr>\n",
       "      <th>0</th>\n",
       "      <td>CC264719</td>\n",
       "      <td>Male</td>\n",
       "      <td>41</td>\n",
       "      <td>14</td>\n",
       "      <td>0</td>\n",
       "      <td>C1</td>\n",
       "      <td>S3</td>\n",
       "      <td>[P16]</td>\n",
       "      <td>[P8]</td>\n",
       "      <td>1</td>\n",
       "    </tr>\n",
       "    <tr>\n",
       "      <th>1</th>\n",
       "      <td>CC209679</td>\n",
       "      <td>Female</td>\n",
       "      <td>47</td>\n",
       "      <td>14</td>\n",
       "      <td>1</td>\n",
       "      <td>C1</td>\n",
       "      <td>S2</td>\n",
       "      <td>[P13, P20]</td>\n",
       "      <td>[P3]</td>\n",
       "      <td>1</td>\n",
       "    </tr>\n",
       "    <tr>\n",
       "      <th>2</th>\n",
       "      <td>CC319633</td>\n",
       "      <td>Female</td>\n",
       "      <td>59</td>\n",
       "      <td>14</td>\n",
       "      <td>0</td>\n",
       "      <td>C2</td>\n",
       "      <td>S2</td>\n",
       "      <td>[P11]</td>\n",
       "      <td>[P00]</td>\n",
       "      <td>1</td>\n",
       "    </tr>\n",
       "    <tr>\n",
       "      <th>3</th>\n",
       "      <td>CC231413</td>\n",
       "      <td>Female</td>\n",
       "      <td>32</td>\n",
       "      <td>16</td>\n",
       "      <td>0</td>\n",
       "      <td>C1</td>\n",
       "      <td>S2</td>\n",
       "      <td>[P8, P13]</td>\n",
       "      <td>[P6]</td>\n",
       "      <td>1</td>\n",
       "    </tr>\n",
       "    <tr>\n",
       "      <th>4</th>\n",
       "      <td>CC259633</td>\n",
       "      <td>Male</td>\n",
       "      <td>30</td>\n",
       "      <td>15</td>\n",
       "      <td>0</td>\n",
       "      <td>C2</td>\n",
       "      <td>S3</td>\n",
       "      <td>[P16, P17, P21]</td>\n",
       "      <td>[P8, P12]</td>\n",
       "      <td>1</td>\n",
       "    </tr>\n",
       "  </tbody>\n",
       "</table>\n",
       "</div>"
      ],
      "text/plain": [
       "  Customer_ID  Gender  Age  Vintage  Is_Active City_Category  \\\n",
       "0    CC264719    Male   41       14          0            C1   \n",
       "1    CC209679  Female   47       14          1            C1   \n",
       "2    CC319633  Female   59       14          0            C2   \n",
       "3    CC231413  Female   32       16          0            C1   \n",
       "4    CC259633    Male   30       15          0            C2   \n",
       "\n",
       "  Customer_Category Product_Holding_B1 Product_Holding_B2  is_train  \n",
       "0                S3              [P16]               [P8]         1  \n",
       "1                S2         [P13, P20]               [P3]         1  \n",
       "2                S2              [P11]              [P00]         1  \n",
       "3                S2          [P8, P13]               [P6]         1  \n",
       "4                S3    [P16, P17, P21]          [P8, P12]         1  "
      ]
     },
     "execution_count": 6,
     "metadata": {},
     "output_type": "execute_result"
    }
   ],
   "source": [
    "df.head()"
   ]
  },
  {
   "cell_type": "code",
   "execution_count": 7,
   "id": "0db5f9e5",
   "metadata": {},
   "outputs": [
    {
     "name": "stdout",
     "output_type": "stream",
     "text": [
      "<class 'pandas.core.frame.DataFrame'>\n",
      "Int64Index: 58075 entries, 0 to 20326\n",
      "Data columns (total 10 columns):\n",
      " #   Column              Non-Null Count  Dtype \n",
      "---  ------              --------------  ----- \n",
      " 0   Customer_ID         58075 non-null  object\n",
      " 1   Gender              58075 non-null  object\n",
      " 2   Age                 58075 non-null  int64 \n",
      " 3   Vintage             58075 non-null  int64 \n",
      " 4   Is_Active           58075 non-null  int64 \n",
      " 5   City_Category       58075 non-null  object\n",
      " 6   Customer_Category   58075 non-null  object\n",
      " 7   Product_Holding_B1  58075 non-null  object\n",
      " 8   Product_Holding_B2  37748 non-null  object\n",
      " 9   is_train            58075 non-null  int64 \n",
      "dtypes: int64(4), object(6)\n",
      "memory usage: 4.9+ MB\n"
     ]
    }
   ],
   "source": [
    "df.info()"
   ]
  },
  {
   "cell_type": "code",
   "execution_count": 8,
   "id": "0dfbfee9",
   "metadata": {},
   "outputs": [
    {
     "data": {
      "text/html": [
       "<div>\n",
       "<style scoped>\n",
       "    .dataframe tbody tr th:only-of-type {\n",
       "        vertical-align: middle;\n",
       "    }\n",
       "\n",
       "    .dataframe tbody tr th {\n",
       "        vertical-align: top;\n",
       "    }\n",
       "\n",
       "    .dataframe thead th {\n",
       "        text-align: right;\n",
       "    }\n",
       "</style>\n",
       "<table border=\"1\" class=\"dataframe\">\n",
       "  <thead>\n",
       "    <tr style=\"text-align: right;\">\n",
       "      <th></th>\n",
       "      <th>Age</th>\n",
       "      <th>Vintage</th>\n",
       "      <th>Is_Active</th>\n",
       "      <th>is_train</th>\n",
       "    </tr>\n",
       "  </thead>\n",
       "  <tbody>\n",
       "    <tr>\n",
       "      <th>count</th>\n",
       "      <td>58075.000000</td>\n",
       "      <td>58075.000000</td>\n",
       "      <td>58075.000000</td>\n",
       "      <td>58075.000000</td>\n",
       "    </tr>\n",
       "    <tr>\n",
       "      <th>mean</th>\n",
       "      <td>38.460146</td>\n",
       "      <td>19.585674</td>\n",
       "      <td>0.264572</td>\n",
       "      <td>0.649987</td>\n",
       "    </tr>\n",
       "    <tr>\n",
       "      <th>std</th>\n",
       "      <td>10.111050</td>\n",
       "      <td>10.252426</td>\n",
       "      <td>0.441109</td>\n",
       "      <td>0.476978</td>\n",
       "    </tr>\n",
       "    <tr>\n",
       "      <th>min</th>\n",
       "      <td>24.000000</td>\n",
       "      <td>2.000000</td>\n",
       "      <td>0.000000</td>\n",
       "      <td>0.000000</td>\n",
       "    </tr>\n",
       "    <tr>\n",
       "      <th>25%</th>\n",
       "      <td>29.000000</td>\n",
       "      <td>13.000000</td>\n",
       "      <td>0.000000</td>\n",
       "      <td>0.000000</td>\n",
       "    </tr>\n",
       "    <tr>\n",
       "      <th>50%</th>\n",
       "      <td>37.000000</td>\n",
       "      <td>16.000000</td>\n",
       "      <td>0.000000</td>\n",
       "      <td>1.000000</td>\n",
       "    </tr>\n",
       "    <tr>\n",
       "      <th>75%</th>\n",
       "      <td>47.000000</td>\n",
       "      <td>23.000000</td>\n",
       "      <td>1.000000</td>\n",
       "      <td>1.000000</td>\n",
       "    </tr>\n",
       "    <tr>\n",
       "      <th>max</th>\n",
       "      <td>59.000000</td>\n",
       "      <td>80.000000</td>\n",
       "      <td>1.000000</td>\n",
       "      <td>1.000000</td>\n",
       "    </tr>\n",
       "  </tbody>\n",
       "</table>\n",
       "</div>"
      ],
      "text/plain": [
       "                Age       Vintage     Is_Active      is_train\n",
       "count  58075.000000  58075.000000  58075.000000  58075.000000\n",
       "mean      38.460146     19.585674      0.264572      0.649987\n",
       "std       10.111050     10.252426      0.441109      0.476978\n",
       "min       24.000000      2.000000      0.000000      0.000000\n",
       "25%       29.000000     13.000000      0.000000      0.000000\n",
       "50%       37.000000     16.000000      0.000000      1.000000\n",
       "75%       47.000000     23.000000      1.000000      1.000000\n",
       "max       59.000000     80.000000      1.000000      1.000000"
      ]
     },
     "execution_count": 8,
     "metadata": {},
     "output_type": "execute_result"
    }
   ],
   "source": [
    "df.describe()"
   ]
  },
  {
   "cell_type": "code",
   "execution_count": 9,
   "id": "43bf6c7b",
   "metadata": {},
   "outputs": [],
   "source": [
    "def get_unique_values_from_list_col(df, col):\n",
    "    local_df=df[col]\n",
    "    products = []\n",
    "    for item in local_df:\n",
    "        unique_cols = np.unique(item)\n",
    "        for col in unique_cols:\n",
    "            if col not in products:\n",
    "                products.append(col)\n",
    "    return products"
   ]
  },
  {
   "cell_type": "code",
   "execution_count": 17,
   "id": "51e5f65a",
   "metadata": {},
   "outputs": [],
   "source": [
    "def apply_transformation(row, col, prod_list, prefix):\n",
    "    print(row['Customer_ID'])\n",
    "    if row['is_train']==0 and prefix=='B2_':\n",
    "        return row\n",
    "    \n",
    "    for item in prod_list:\n",
    "        if item in row[col]:\n",
    "            row[prefix+item] = 1\n",
    "    return row"
   ]
  },
  {
   "cell_type": "code",
   "execution_count": 12,
   "id": "e4c75f63",
   "metadata": {},
   "outputs": [],
   "source": [
    "prod_list = get_unique_values_from_list_col(df, 'Product_Holding_B1')\n",
    "b1_prod_list = ['B1_'+item for item in prod_list]\n",
    "for item in b1_prod_list:\n",
    "    df[item]= 0\n",
    "    \n",
    "df = df.apply(apply_transformation, col='Product_Holding_B1',prod_list=prod_list, prefix='B1_',axis=1)"
   ]
  },
  {
   "cell_type": "code",
   "execution_count": 14,
   "id": "c2851747",
   "metadata": {},
   "outputs": [],
   "source": [
    "prod_list_b2 = get_unique_values_from_list_col(df, 'Product_Holding_B2')\n",
    "b2_prod_list = ['B2_'+item for item in prod_list_b2 if str(item) != 'nan']\n",
    " \n",
    "for item in b2_prod_list:\n",
    "    df[item]= 0 "
   ]
  },
  {
   "cell_type": "code",
   "execution_count": 15,
   "id": "1ac295c2",
   "metadata": {},
   "outputs": [
    {
     "data": {
      "text/plain": [
       "Index(['Customer_ID', 'Gender', 'Age', 'Vintage', 'Is_Active', 'City_Category',\n",
       "       'Customer_Category', 'Product_Holding_B1', 'Product_Holding_B2',\n",
       "       'is_train', 'B1_P16', 'B1_P13', 'B1_P20', 'B1_P11', 'B1_P8', 'B1_P17',\n",
       "       'B1_P21', 'B1_P12', 'B1_P10', 'B1_P19', 'B1_P2', 'B1_P00', 'B1_P18',\n",
       "       'B1_P15', 'B1_P6', 'B1_P9', 'B1_P7', 'B1_P3', 'B1_P5', 'B1_P4', 'B1_P1',\n",
       "       'B1_P14', 'B2_P8', 'B2_P3', 'B2_P00', 'B2_P6', 'B2_P12', 'B2_P16',\n",
       "       'B2_P1', 'B2_P9', 'B2_P10', 'B2_P13', 'B2_P4', 'B2_P5', 'B2_P7',\n",
       "       'B2_P11', 'B2_P2', 'B2_P15', 'B2_P17', 'B2_P14', 'B2_P20', 'B2_P18'],\n",
       "      dtype='object')"
      ]
     },
     "execution_count": 15,
     "metadata": {},
     "output_type": "execute_result"
    }
   ],
   "source": [
    "df.columns"
   ]
  },
  {
   "cell_type": "code",
   "execution_count": 19,
   "id": "86cbea70",
   "metadata": {},
   "outputs": [
    {
     "name": "stdout",
     "output_type": "stream",
     "text": [
      "Collecting swifter\n",
      "  Downloading swifter-1.0.9-py3-none-any.whl (14 kB)\n",
      "Requirement already satisfied: tqdm>=4.33.0 in /Users/harveen/opt/miniconda3/envs/ekstep/lib/python3.7/site-packages (from swifter) (4.62.3)\n",
      "Collecting psutil>=5.6.6\n",
      "  Downloading psutil-5.8.0-cp37-cp37m-macosx_10_9_x86_64.whl (236 kB)\n",
      "\u001b[K     |████████████████████████████████| 236 kB 2.6 MB/s eta 0:00:01\n",
      "\u001b[?25hCollecting dask[dataframe]>=2.10.0\n",
      "  Downloading dask-2021.11.1-py3-none-any.whl (1.0 MB)\n",
      "\u001b[K     |████████████████████████████████| 1.0 MB 2.9 MB/s eta 0:00:01\n",
      "\u001b[?25hRequirement already satisfied: pandas>=1.0.0 in /Users/harveen/opt/miniconda3/envs/ekstep/lib/python3.7/site-packages (from swifter) (1.3.4)\n",
      "Requirement already satisfied: cloudpickle>=0.2.2 in /Users/harveen/opt/miniconda3/envs/ekstep/lib/python3.7/site-packages (from swifter) (2.0.0)\n",
      "Requirement already satisfied: parso>0.4.0 in /Users/harveen/opt/miniconda3/envs/ekstep/lib/python3.7/site-packages (from swifter) (0.8.2)\n",
      "Requirement already satisfied: bleach>=3.1.1 in /Users/harveen/opt/miniconda3/envs/ekstep/lib/python3.7/site-packages (from swifter) (4.1.0)\n",
      "Requirement already satisfied: ipywidgets>=7.0.0 in /Users/harveen/opt/miniconda3/envs/ekstep/lib/python3.7/site-packages (from swifter) (7.6.5)\n",
      "Requirement already satisfied: six>=1.9.0 in /Users/harveen/opt/miniconda3/envs/ekstep/lib/python3.7/site-packages (from bleach>=3.1.1->swifter) (1.16.0)\n",
      "Requirement already satisfied: packaging in /Users/harveen/opt/miniconda3/envs/ekstep/lib/python3.7/site-packages (from bleach>=3.1.1->swifter) (21.0)\n",
      "Requirement already satisfied: webencodings in /Users/harveen/opt/miniconda3/envs/ekstep/lib/python3.7/site-packages (from bleach>=3.1.1->swifter) (0.5.1)\n",
      "Collecting partd>=0.3.10\n",
      "  Downloading partd-1.2.0-py3-none-any.whl (19 kB)\n",
      "Requirement already satisfied: pyyaml in /Users/harveen/opt/miniconda3/envs/ekstep/lib/python3.7/site-packages (from dask[dataframe]>=2.10.0->swifter) (6.0)\n",
      "Collecting toolz>=0.8.2\n",
      "  Downloading toolz-0.11.2-py3-none-any.whl (55 kB)\n",
      "\u001b[K     |████████████████████████████████| 55 kB 6.1 MB/s eta 0:00:01\n",
      "\u001b[?25hCollecting fsspec>=0.6.0\n",
      "  Downloading fsspec-2021.11.0-py3-none-any.whl (132 kB)\n",
      "\u001b[K     |████████████████████████████████| 132 kB 7.1 MB/s eta 0:00:01\n",
      "\u001b[?25hRequirement already satisfied: numpy>=1.18 in /Users/harveen/opt/miniconda3/envs/ekstep/lib/python3.7/site-packages (from dask[dataframe]>=2.10.0->swifter) (1.21.3)\n",
      "Requirement already satisfied: ipython>=4.0.0 in /Users/harveen/opt/miniconda3/envs/ekstep/lib/python3.7/site-packages (from ipywidgets>=7.0.0->swifter) (7.28.0)\n",
      "Requirement already satisfied: nbformat>=4.2.0 in /Users/harveen/opt/miniconda3/envs/ekstep/lib/python3.7/site-packages (from ipywidgets>=7.0.0->swifter) (5.1.3)\n",
      "Requirement already satisfied: traitlets>=4.3.1 in /Users/harveen/opt/miniconda3/envs/ekstep/lib/python3.7/site-packages (from ipywidgets>=7.0.0->swifter) (5.1.0)\n",
      "Requirement already satisfied: ipython-genutils~=0.2.0 in /Users/harveen/opt/miniconda3/envs/ekstep/lib/python3.7/site-packages (from ipywidgets>=7.0.0->swifter) (0.2.0)\n",
      "Requirement already satisfied: widgetsnbextension~=3.5.0 in /Users/harveen/opt/miniconda3/envs/ekstep/lib/python3.7/site-packages (from ipywidgets>=7.0.0->swifter) (3.5.1)\n",
      "Requirement already satisfied: ipykernel>=4.5.1 in /Users/harveen/opt/miniconda3/envs/ekstep/lib/python3.7/site-packages (from ipywidgets>=7.0.0->swifter) (6.4.1)\n",
      "Requirement already satisfied: jupyterlab-widgets>=1.0.0 in /Users/harveen/opt/miniconda3/envs/ekstep/lib/python3.7/site-packages (from ipywidgets>=7.0.0->swifter) (1.0.2)\n",
      "Requirement already satisfied: appnope in /Users/harveen/opt/miniconda3/envs/ekstep/lib/python3.7/site-packages (from ipykernel>=4.5.1->ipywidgets>=7.0.0->swifter) (0.1.2)\n",
      "Requirement already satisfied: jupyter-client<8.0 in /Users/harveen/opt/miniconda3/envs/ekstep/lib/python3.7/site-packages (from ipykernel>=4.5.1->ipywidgets>=7.0.0->swifter) (6.1.12)\n",
      "Requirement already satisfied: debugpy<2.0,>=1.0.0 in /Users/harveen/opt/miniconda3/envs/ekstep/lib/python3.7/site-packages (from ipykernel>=4.5.1->ipywidgets>=7.0.0->swifter) (1.5.0)\n",
      "Requirement already satisfied: importlib-metadata<5 in /Users/harveen/opt/miniconda3/envs/ekstep/lib/python3.7/site-packages (from ipykernel>=4.5.1->ipywidgets>=7.0.0->swifter) (4.8.1)\n",
      "Requirement already satisfied: matplotlib-inline<0.2.0,>=0.1.0 in /Users/harveen/opt/miniconda3/envs/ekstep/lib/python3.7/site-packages (from ipykernel>=4.5.1->ipywidgets>=7.0.0->swifter) (0.1.3)\n",
      "Requirement already satisfied: tornado<7.0,>=4.2 in /Users/harveen/opt/miniconda3/envs/ekstep/lib/python3.7/site-packages (from ipykernel>=4.5.1->ipywidgets>=7.0.0->swifter) (6.1)\n",
      "Requirement already satisfied: argcomplete>=1.12.3 in /Users/harveen/opt/miniconda3/envs/ekstep/lib/python3.7/site-packages (from ipykernel>=4.5.1->ipywidgets>=7.0.0->swifter) (1.12.3)\n",
      "Requirement already satisfied: zipp>=0.5 in /Users/harveen/opt/miniconda3/envs/ekstep/lib/python3.7/site-packages (from importlib-metadata<5->ipykernel>=4.5.1->ipywidgets>=7.0.0->swifter) (3.6.0)\n",
      "Requirement already satisfied: typing-extensions>=3.6.4 in /Users/harveen/opt/miniconda3/envs/ekstep/lib/python3.7/site-packages (from importlib-metadata<5->ipykernel>=4.5.1->ipywidgets>=7.0.0->swifter) (3.10.0.2)\n",
      "Requirement already satisfied: pickleshare in /Users/harveen/opt/miniconda3/envs/ekstep/lib/python3.7/site-packages (from ipython>=4.0.0->ipywidgets>=7.0.0->swifter) (0.7.5)\n",
      "Requirement already satisfied: pygments in /Users/harveen/opt/miniconda3/envs/ekstep/lib/python3.7/site-packages (from ipython>=4.0.0->ipywidgets>=7.0.0->swifter) (2.10.0)\n",
      "Requirement already satisfied: backcall in /Users/harveen/opt/miniconda3/envs/ekstep/lib/python3.7/site-packages (from ipython>=4.0.0->ipywidgets>=7.0.0->swifter) (0.2.0)\n",
      "Requirement already satisfied: jedi>=0.16 in /Users/harveen/opt/miniconda3/envs/ekstep/lib/python3.7/site-packages (from ipython>=4.0.0->ipywidgets>=7.0.0->swifter) (0.18.0)\n",
      "Requirement already satisfied: setuptools>=18.5 in /Users/harveen/opt/miniconda3/envs/ekstep/lib/python3.7/site-packages (from ipython>=4.0.0->ipywidgets>=7.0.0->swifter) (58.0.4)\n",
      "Requirement already satisfied: decorator in /Users/harveen/opt/miniconda3/envs/ekstep/lib/python3.7/site-packages (from ipython>=4.0.0->ipywidgets>=7.0.0->swifter) (5.1.0)\n",
      "Requirement already satisfied: prompt-toolkit!=3.0.0,!=3.0.1,<3.1.0,>=2.0.0 in /Users/harveen/opt/miniconda3/envs/ekstep/lib/python3.7/site-packages (from ipython>=4.0.0->ipywidgets>=7.0.0->swifter) (3.0.20)\n",
      "Requirement already satisfied: pexpect>4.3 in /Users/harveen/opt/miniconda3/envs/ekstep/lib/python3.7/site-packages (from ipython>=4.0.0->ipywidgets>=7.0.0->swifter) (4.8.0)\n",
      "Requirement already satisfied: pyzmq>=13 in /Users/harveen/opt/miniconda3/envs/ekstep/lib/python3.7/site-packages (from jupyter-client<8.0->ipykernel>=4.5.1->ipywidgets>=7.0.0->swifter) (22.3.0)\n",
      "Requirement already satisfied: jupyter-core>=4.6.0 in /Users/harveen/opt/miniconda3/envs/ekstep/lib/python3.7/site-packages (from jupyter-client<8.0->ipykernel>=4.5.1->ipywidgets>=7.0.0->swifter) (4.8.1)\n",
      "Requirement already satisfied: python-dateutil>=2.1 in /Users/harveen/opt/miniconda3/envs/ekstep/lib/python3.7/site-packages (from jupyter-client<8.0->ipykernel>=4.5.1->ipywidgets>=7.0.0->swifter) (2.8.2)\n",
      "Requirement already satisfied: jsonschema!=2.5.0,>=2.4 in /Users/harveen/opt/miniconda3/envs/ekstep/lib/python3.7/site-packages (from nbformat>=4.2.0->ipywidgets>=7.0.0->swifter) (4.0.1)\n",
      "Requirement already satisfied: pyrsistent!=0.17.0,!=0.17.1,!=0.17.2,>=0.14.0 in /Users/harveen/opt/miniconda3/envs/ekstep/lib/python3.7/site-packages (from jsonschema!=2.5.0,>=2.4->nbformat>=4.2.0->ipywidgets>=7.0.0->swifter) (0.18.0)\n",
      "Requirement already satisfied: attrs>=17.4.0 in /Users/harveen/opt/miniconda3/envs/ekstep/lib/python3.7/site-packages (from jsonschema!=2.5.0,>=2.4->nbformat>=4.2.0->ipywidgets>=7.0.0->swifter) (21.2.0)\n",
      "Requirement already satisfied: pyparsing>=2.0.2 in /Users/harveen/opt/miniconda3/envs/ekstep/lib/python3.7/site-packages (from packaging->bleach>=3.1.1->swifter) (2.4.7)\n",
      "Requirement already satisfied: pytz>=2017.3 in /Users/harveen/opt/miniconda3/envs/ekstep/lib/python3.7/site-packages (from pandas>=1.0.0->swifter) (2021.3)\n"
     ]
    },
    {
     "name": "stdout",
     "output_type": "stream",
     "text": [
      "Collecting locket\n",
      "  Downloading locket-0.2.1-py2.py3-none-any.whl (4.1 kB)\n",
      "Requirement already satisfied: ptyprocess>=0.5 in /Users/harveen/opt/miniconda3/envs/ekstep/lib/python3.7/site-packages (from pexpect>4.3->ipython>=4.0.0->ipywidgets>=7.0.0->swifter) (0.7.0)\n",
      "Requirement already satisfied: wcwidth in /Users/harveen/opt/miniconda3/envs/ekstep/lib/python3.7/site-packages (from prompt-toolkit!=3.0.0,!=3.0.1,<3.1.0,>=2.0.0->ipython>=4.0.0->ipywidgets>=7.0.0->swifter) (0.2.5)\n",
      "Requirement already satisfied: notebook>=4.4.1 in /Users/harveen/opt/miniconda3/envs/ekstep/lib/python3.7/site-packages (from widgetsnbextension~=3.5.0->ipywidgets>=7.0.0->swifter) (6.4.4)\n",
      "Requirement already satisfied: jinja2 in /Users/harveen/opt/miniconda3/envs/ekstep/lib/python3.7/site-packages (from notebook>=4.4.1->widgetsnbextension~=3.5.0->ipywidgets>=7.0.0->swifter) (3.0.2)\n",
      "Requirement already satisfied: Send2Trash>=1.5.0 in /Users/harveen/opt/miniconda3/envs/ekstep/lib/python3.7/site-packages (from notebook>=4.4.1->widgetsnbextension~=3.5.0->ipywidgets>=7.0.0->swifter) (1.8.0)\n",
      "Requirement already satisfied: prometheus-client in /Users/harveen/opt/miniconda3/envs/ekstep/lib/python3.7/site-packages (from notebook>=4.4.1->widgetsnbextension~=3.5.0->ipywidgets>=7.0.0->swifter) (0.11.0)\n",
      "Requirement already satisfied: argon2-cffi in /Users/harveen/opt/miniconda3/envs/ekstep/lib/python3.7/site-packages (from notebook>=4.4.1->widgetsnbextension~=3.5.0->ipywidgets>=7.0.0->swifter) (21.1.0)\n",
      "Requirement already satisfied: terminado>=0.8.3 in /Users/harveen/opt/miniconda3/envs/ekstep/lib/python3.7/site-packages (from notebook>=4.4.1->widgetsnbextension~=3.5.0->ipywidgets>=7.0.0->swifter) (0.12.1)\n",
      "Requirement already satisfied: nbconvert in /Users/harveen/opt/miniconda3/envs/ekstep/lib/python3.7/site-packages (from notebook>=4.4.1->widgetsnbextension~=3.5.0->ipywidgets>=7.0.0->swifter) (6.2.0)\n",
      "Requirement already satisfied: cffi>=1.0.0 in /Users/harveen/opt/miniconda3/envs/ekstep/lib/python3.7/site-packages (from argon2-cffi->notebook>=4.4.1->widgetsnbextension~=3.5.0->ipywidgets>=7.0.0->swifter) (1.14.6)\n",
      "Requirement already satisfied: pycparser in /Users/harveen/opt/miniconda3/envs/ekstep/lib/python3.7/site-packages (from cffi>=1.0.0->argon2-cffi->notebook>=4.4.1->widgetsnbextension~=3.5.0->ipywidgets>=7.0.0->swifter) (2.20)\n",
      "Requirement already satisfied: MarkupSafe>=2.0 in /Users/harveen/opt/miniconda3/envs/ekstep/lib/python3.7/site-packages (from jinja2->notebook>=4.4.1->widgetsnbextension~=3.5.0->ipywidgets>=7.0.0->swifter) (2.0.1)\n",
      "Requirement already satisfied: entrypoints>=0.2.2 in /Users/harveen/opt/miniconda3/envs/ekstep/lib/python3.7/site-packages (from nbconvert->notebook>=4.4.1->widgetsnbextension~=3.5.0->ipywidgets>=7.0.0->swifter) (0.3)\n",
      "Requirement already satisfied: defusedxml in /Users/harveen/opt/miniconda3/envs/ekstep/lib/python3.7/site-packages (from nbconvert->notebook>=4.4.1->widgetsnbextension~=3.5.0->ipywidgets>=7.0.0->swifter) (0.7.1)\n",
      "Requirement already satisfied: jupyterlab-pygments in /Users/harveen/opt/miniconda3/envs/ekstep/lib/python3.7/site-packages (from nbconvert->notebook>=4.4.1->widgetsnbextension~=3.5.0->ipywidgets>=7.0.0->swifter) (0.1.2)\n",
      "Requirement already satisfied: mistune<2,>=0.8.1 in /Users/harveen/opt/miniconda3/envs/ekstep/lib/python3.7/site-packages (from nbconvert->notebook>=4.4.1->widgetsnbextension~=3.5.0->ipywidgets>=7.0.0->swifter) (0.8.4)\n",
      "Requirement already satisfied: pandocfilters>=1.4.1 in /Users/harveen/opt/miniconda3/envs/ekstep/lib/python3.7/site-packages (from nbconvert->notebook>=4.4.1->widgetsnbextension~=3.5.0->ipywidgets>=7.0.0->swifter) (1.5.0)\n",
      "Requirement already satisfied: testpath in /Users/harveen/opt/miniconda3/envs/ekstep/lib/python3.7/site-packages (from nbconvert->notebook>=4.4.1->widgetsnbextension~=3.5.0->ipywidgets>=7.0.0->swifter) (0.5.0)\n",
      "Requirement already satisfied: nbclient<0.6.0,>=0.5.0 in /Users/harveen/opt/miniconda3/envs/ekstep/lib/python3.7/site-packages (from nbconvert->notebook>=4.4.1->widgetsnbextension~=3.5.0->ipywidgets>=7.0.0->swifter) (0.5.4)\n",
      "Requirement already satisfied: nest-asyncio in /Users/harveen/opt/miniconda3/envs/ekstep/lib/python3.7/site-packages (from nbclient<0.6.0,>=0.5.0->nbconvert->notebook>=4.4.1->widgetsnbextension~=3.5.0->ipywidgets>=7.0.0->swifter) (1.5.1)\n",
      "Installing collected packages: toolz, locket, partd, fsspec, dask, psutil, swifter\n",
      "Successfully installed dask-2021.11.1 fsspec-2021.11.0 locket-0.2.1 partd-1.2.0 psutil-5.8.0 swifter-1.0.9 toolz-0.11.2\n"
     ]
    }
   ],
   "source": [
    "!pip install swifter"
   ]
  },
  {
   "cell_type": "code",
   "execution_count": 21,
   "id": "39f4e4f0",
   "metadata": {},
   "outputs": [],
   "source": [
    "import swifter"
   ]
  },
  {
   "cell_type": "code",
   "execution_count": null,
   "id": "b44225d9",
   "metadata": {},
   "outputs": [
    {
     "name": "stderr",
     "output_type": "stream",
     "text": [
      "/Users/harveen/opt/miniconda3/envs/ekstep/lib/python3.7/site-packages/swifter/swifter.py:37: UserWarning: This pandas object has duplicate indices, and swifter may not be able to improve performance. Consider resetting the indices with `df.reset_index(drop=True)`.\n",
      "  \"This pandas object has duplicate indices, and swifter may not be able to improve performance. Consider resetting the indices with `df.reset_index(drop=True)`.\"\n"
     ]
    }
   ],
   "source": [
    "df = df.swifter.apply(apply_transformation, col='Product_Holding_B2',prod_list=prod_list_b2, prefix='B2_', axis=1)"
   ]
  },
  {
   "cell_type": "code",
   "execution_count": null,
   "id": "c7f9f70f",
   "metadata": {},
   "outputs": [],
   "source": [
    "df.head()"
   ]
  },
  {
   "cell_type": "code",
   "execution_count": null,
   "id": "adff1671",
   "metadata": {},
   "outputs": [],
   "source": [
    "#prod_list_b2 = get_unique_values_from_list_col(df, 'Product_Holding_B2')\n",
    "# b2_prod_list = ['B2_'+item for item in prod_list_b2]\n",
    "# for item in b2_prod_list:\n",
    "#     df_train[item]= 0 \n",
    "    \n"
   ]
  },
  {
   "cell_type": "code",
   "execution_count": null,
   "id": "98003178",
   "metadata": {},
   "outputs": [],
   "source": [
    "df"
   ]
  },
  {
   "cell_type": "code",
   "execution_count": null,
   "id": "c2c74568",
   "metadata": {},
   "outputs": [],
   "source": []
  },
  {
   "cell_type": "code",
   "execution_count": null,
   "id": "f784a543",
   "metadata": {},
   "outputs": [],
   "source": [
    "df['current_holdings'] = df['Product_Holding_B1'].apply(lambda x: len(x))"
   ]
  },
  {
   "cell_type": "code",
   "execution_count": null,
   "id": "1d8b8f85",
   "metadata": {},
   "outputs": [],
   "source": [
    "df = df.drop(columns = ['Product_Holding_B1','Product_Holding_B2'])"
   ]
  },
  {
   "cell_type": "code",
   "execution_count": null,
   "id": "b5602028",
   "metadata": {},
   "outputs": [],
   "source": [
    "df.to_csv('modified_data.csv', index=False)"
   ]
  },
  {
   "cell_type": "code",
   "execution_count": null,
   "id": "66baf52d",
   "metadata": {},
   "outputs": [],
   "source": [
    "df.describe(())"
   ]
  },
  {
   "cell_type": "code",
   "execution_count": null,
   "id": "c147d753",
   "metadata": {},
   "outputs": [],
   "source": []
  }
 ],
 "metadata": {
  "kernelspec": {
   "display_name": "Python 3 (ipykernel)",
   "language": "python",
   "name": "python3"
  },
  "language_info": {
   "codemirror_mode": {
    "name": "ipython",
    "version": 3
   },
   "file_extension": ".py",
   "mimetype": "text/x-python",
   "name": "python",
   "nbconvert_exporter": "python",
   "pygments_lexer": "ipython3",
   "version": "3.7.11"
  }
 },
 "nbformat": 4,
 "nbformat_minor": 5
}
